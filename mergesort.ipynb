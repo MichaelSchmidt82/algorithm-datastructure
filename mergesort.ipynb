{
 "cells": [
  {
   "cell_type": "markdown",
   "metadata": {},
   "source": [
    "Given a list of unique random intergers:\n",
    "- Split and merge sub lists into a sorted list"
   ]
  },
  {
   "cell_type": "markdown",
   "metadata": {},
   "source": [
    "### PREQUISITES"
   ]
  },
  {
   "cell_type": "code",
   "execution_count": null,
   "metadata": {},
   "outputs": [],
   "source": [
    "import random\n",
    "\n",
    "def make(n):\n",
    "    nums = [i for i in range(n)]\n",
    "    for i in range(n):\n",
    "        rnd = random.randint(0, n - 1)\n",
    "        nums[i], nums[rnd] = nums[rnd], nums[i]\n",
    "    return nums"
   ]
  },
  {
   "cell_type": "markdown",
   "metadata": {},
   "source": [
    "### ALGORITHM"
   ]
  },
  {
   "cell_type": "code",
   "execution_count": null,
   "metadata": {},
   "outputs": [],
   "source": [
    "def mergeSort(nums):\n",
    "    if len(nums) > 1:\n",
    "        L = nums[:len(nums) // 2]\n",
    "        R = nums[len(nums) // 2:]\n",
    "        \n",
    "        mergeSort(L)\n",
    "        mergeSort(R)\n",
    "        \n",
    "        idx_l, idx_r, idx = 0, 0, 0\n",
    "        \n",
    "        while idx_l < len(L) and idx_r < len(R):\n",
    "            if L[idx_l] < R[idx_r]:\n",
    "                nums[idx] = L[idx_l]\n",
    "                idx_l += 1\n",
    "            else:\n",
    "                nums[idx] = R[idx_r]\n",
    "                idx_r += 1\n",
    "            idx += 1\n",
    "                \n",
    "        while idx_l < len(L):\n",
    "            nums[idx] = L[idx_l]\n",
    "            idx_l += 1\n",
    "            idx += 1\n",
    "            \n",
    "        while idx_r < len(R):\n",
    "            nums[idx] = R[idx_r]\n",
    "            idx_r += 1\n",
    "            idx += 1     "
   ]
  },
  {
   "cell_type": "markdown",
   "metadata": {},
   "source": [
    "### TEST"
   ]
  },
  {
   "cell_type": "code",
   "execution_count": null,
   "metadata": {},
   "outputs": [],
   "source": [
    "nums = make(20)\n",
    "mergeSort(nums)\n",
    "print(nums)"
   ]
  }
 ],
 "metadata": {
  "kernelspec": {
   "display_name": "Python 3.7 (base)",
   "language": "python",
   "name": "python3.7-base"
  },
  "language_info": {
   "codemirror_mode": {
    "name": "ipython",
    "version": 3
   },
   "file_extension": ".py",
   "mimetype": "text/x-python",
   "name": "python",
   "nbconvert_exporter": "python",
   "pygments_lexer": "ipython3",
   "version": "3.7.2"
  }
 },
 "nbformat": 4,
 "nbformat_minor": 2
}
