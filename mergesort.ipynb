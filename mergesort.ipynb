{
  "cells": [
    {
      "cell_type": "markdown",
      "source": [
        "Given a list of unique random intergers:\n",
        "- Split and merge sub lists into a sorted list"
      ],
      "metadata": {}
    },
    {
      "cell_type": "markdown",
      "source": [
        "### PREQUISITES"
      ],
      "metadata": {}
    },
    {
      "cell_type": "code",
      "source": [
        "import random\n",
        "\n",
        "def make(n):\n",
        "    nums = [i for i in range(n)]\n",
        "    for i in range(n):\n",
        "        rnd = random.randint(0, n - 1)\n",
        "        nums[i], nums[rnd] = nums[rnd], nums[i]\n",
        "    return nums"
      ],
      "outputs": [],
      "execution_count": null,
      "metadata": {}
    },
    {
      "cell_type": "markdown",
      "source": [
        "### ALGORITHM"
      ],
      "metadata": {}
    },
    {
      "cell_type": "code",
      "source": [
        "def mergeSort(nums):\n",
        "    if len(nums) > 1:\n",
        "        L = nums[:len(nums) // 2]\n",
        "        R = nums[len(nums) // 2:]\n",
        "        \n",
        "        mergeSort(L)\n",
        "        mergeSort(R)\n",
        "        \n",
        "        idx_l, idx_r, idx = 0, 0, 0\n",
        "        \n",
        "        while idx_l < len(L) and idx_r < len(R):\n",
        "            if L[idx_l] < R[idx_r]:\n",
        "                nums[idx] = L[idx_l]\n",
        "                idx_l += 1\n",
        "            else:\n",
        "                nums[idx] = R[idx_r]\n",
        "                idx_r += 1\n",
        "            idx += 1\n",
        "                \n",
        "        while idx_l < len(L):\n",
        "            nums[idx] = L[idx_l]\n",
        "            idx_l += 1\n",
        "            idx += 1\n",
        "            \n",
        "        while idx_r < len(R):\n",
        "            nums[idx] = R[idx_r]\n",
        "            idx_r += 1\n",
        "            idx += 1     "
      ],
      "outputs": [],
      "execution_count": null,
      "metadata": {}
    },
    {
      "cell_type": "markdown",
      "source": [
        "### TEST"
      ],
      "metadata": {}
    },
    {
      "cell_type": "code",
      "source": [
        "nums = make(20)\n",
        "mergeSort(nums)\n",
        "print(nums)\n",
        "\n",
        "for idx, val in enumerate(nums):\n",
        "  assert idx == val"
      ],
      "outputs": [],
      "execution_count": null,
      "metadata": {}
    }
  ],
  "metadata": {
    "kernelspec": {
      "name": "python3.7-base",
      "language": "python",
      "display_name": "Python 3.7 (base)"
    },
    "language_info": {
      "name": "python",
      "version": "3.6.8",
      "mimetype": "text/x-python",
      "codemirror_mode": {
        "name": "ipython",
        "version": 3
      },
      "pygments_lexer": "ipython3",
      "nbconvert_exporter": "python",
      "file_extension": ".py"
    },
    "kernel_info": {
      "name": "python3.7-base"
    },
    "nteract": {
      "version": "0.14.0"
    }
  },
  "nbformat": 4,
  "nbformat_minor": 2
}