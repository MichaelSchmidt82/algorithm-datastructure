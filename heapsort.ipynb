{
 "cells": [
  {
   "cell_type": "markdown",
   "metadata": {},
   "source": [
    "Given a list of unique random intergers:\n",
    "- create a heap.\n",
    "- sort the list using a heap."
   ]
  },
  {
   "cell_type": "markdown",
   "metadata": {},
   "source": [
    "### PREQUISITES"
   ]
  },
  {
   "cell_type": "code",
   "execution_count": null,
   "metadata": {},
   "outputs": [],
   "source": [
    "import random\n",
    "\n",
    "def make(n):\n",
    "    nums = [i for i in range(n)]\n",
    "    for i in range(n):\n",
    "        rnd = random.randint(0, n - 1)\n",
    "        nums[i], nums[rnd] = nums[rnd], nums[i]\n",
    "    return nums"
   ]
  },
  {
   "cell_type": "markdown",
   "metadata": {},
   "source": [
    "### ALGORITHM"
   ]
  },
  {
   "cell_type": "code",
   "execution_count": null,
   "metadata": {},
   "outputs": [],
   "source": [
    "def heapify(nums, n, idx):\n",
    "    max_idx = idx\n",
    "    l_idx = idx * 2 + 1\n",
    "    r_idx = l_idx + 1\n",
    "\n",
    "    if l_idx < n and nums[l_idx] > nums[max_idx]:\n",
    "        max_idx = l_idx\n",
    "    if r_idx < n and nums[r_idx] > nums[max_idx]:\n",
    "        max_idx = r_idx\n",
    "\n",
    "    if max_idx != idx:\n",
    "        nums[idx], nums[max_idx] = nums[max_idx], nums[idx]\n",
    "        heapify(nums, n, max_idx)\n",
    "\n",
    "def heapSort(nums):\n",
    "    for i in range(len(nums) // 2 - 1, -1, -1):\n",
    "        heapify(nums, len(nums), i)\n",
    "\n",
    "    for i in range(len(nums) - 1, -1, -1):\n",
    "        nums[0], nums[i] = nums[i], nums[0]\n",
    "        heapify(nums, i, 0)"
   ]
  },
  {
   "cell_type": "markdown",
   "metadata": {},
   "source": [
    "### TEST"
   ]
  },
  {
   "cell_type": "code",
   "execution_count": null,
   "metadata": {},
   "outputs": [],
   "source": [
    "nums = make(26)\n",
    "heapSort(nums)\n",
    "print(nums)"
   ]
  }
 ],
 "metadata": {
  "kernelspec": {
   "display_name": "Python 3.7 (base)",
   "language": "python",
   "name": "python3.7-base"
  },
  "language_info": {
   "codemirror_mode": {
    "name": "ipython",
    "version": 3
   },
   "file_extension": ".py",
   "mimetype": "text/x-python",
   "name": "python",
   "nbconvert_exporter": "python",
   "pygments_lexer": "ipython3",
   "version": "3.7.2"
  }
 },
 "nbformat": 4,
 "nbformat_minor": 2
}
