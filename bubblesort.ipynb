{
  "cells": [
    {
      "cell_type": "markdown",
      "source": [
        "### PREQUISITES"
      ],
      "metadata": {}
    },
    {
      "cell_type": "code",
      "source": [
        "import random\n",
        "\n",
        "def make(n):\n",
        "    nums = [i for i in range(n)]\n",
        "    for i in range(n):\n",
        "        rnd = random.randint(0, n - 1)\n",
        "        nums[i], nums[rnd] = nums[rnd], nums[i]\n",
        "    return nums"
      ],
      "outputs": [],
      "execution_count": 1,
      "metadata": {
        "collapsed": false,
        "outputHidden": false,
        "inputHidden": false
      }
    },
    {
      "cell_type": "markdown",
      "source": [
        "### ALGORITHM"
      ],
      "metadata": {}
    },
    {
      "cell_type": "code",
      "source": [
        "def bubbleSort(nums):\n",
        "  \n",
        "    for i in range(0, len(nums)):\n",
        "        for j in range(0, len(nums) - 1 - i):\n",
        "            if nums[j] > nums[j+1]:\n",
        "                nums[j], nums[j+1] = nums[j+1], nums[j]"
      ],
      "outputs": [],
      "execution_count": 2,
      "metadata": {
        "collapsed": false,
        "outputHidden": false,
        "inputHidden": false
      }
    },
    {
      "cell_type": "markdown",
      "source": [
        "### TEST"
      ],
      "metadata": {}
    },
    {
      "cell_type": "code",
      "source": [
        "nums = make(20)\n",
        "bubbleSort(nums)\n",
        "print(nums)\n",
        "\n",
        "for idx, val in enumerate(nums):\n",
        "  assert idx == val"
      ],
      "outputs": [
        {
          "output_type": "stream",
          "name": "stdout",
          "text": [
            "[0, 1, 2, 3, 4, 5, 6, 7, 8, 9, 10, 11, 12, 13, 14, 15, 16, 17, 18, 19]\n"
          ]
        }
      ],
      "execution_count": 3,
      "metadata": {
        "collapsed": false,
        "outputHidden": false,
        "inputHidden": false
      }
    },
    {
      "cell_type": "markdown",
      "source": [],
      "metadata": {}
    }
  ],
  "metadata": {
    "kernel_info": {
      "name": "python3"
    },
    "language_info": {
      "name": "python",
      "version": "3.6.8",
      "mimetype": "text/x-python",
      "codemirror_mode": {
        "name": "ipython",
        "version": 3
      },
      "pygments_lexer": "ipython3",
      "nbconvert_exporter": "python",
      "file_extension": ".py"
    },
    "kernelspec": {
      "name": "python3",
      "language": "python",
      "display_name": "Python 3"
    },
    "nteract": {
      "version": "0.14.0"
    }
  },
  "nbformat": 4,
  "nbformat_minor": 0
}